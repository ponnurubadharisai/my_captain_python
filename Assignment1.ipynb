{
  "nbformat": 4,
  "nbformat_minor": 0,
  "metadata": {
    "colab": {
      "name": "Assignment1.ipynb",
      "provenance": [],
      "toc_visible": true,
      "authorship_tag": "ABX9TyN2dMLZFuMcyZ/kKc+HTDOv",
      "include_colab_link": true
    },
    "kernelspec": {
      "name": "python3",
      "display_name": "Python 3"
    },
    "language_info": {
      "name": "python"
    }
  },
  "cells": [
    {
      "cell_type": "markdown",
      "metadata": {
        "id": "view-in-github",
        "colab_type": "text"
      },
      "source": [
        "<a href=\"https://colab.research.google.com/github/ponnurubadharisai/my_captain_python/blob/main/Assignment1.ipynb\" target=\"_parent\"><img src=\"https://colab.research.google.com/assets/colab-badge.svg\" alt=\"Open In Colab\"/></a>"
      ]
    },
    {
      "cell_type": "markdown",
      "metadata": {
        "id": "ljPCm0mmVo28"
      },
      "source": [
        "# List Methods"
      ]
    },
    {
      "cell_type": "code",
      "metadata": {
        "colab": {
          "base_uri": "https://localhost:8080/"
        },
        "id": "kS7mPHSbUgf1",
        "outputId": "07342a7e-6a1d-4638-8cb5-f8b520ca37a1"
      },
      "source": [
        "fruits = [\"apple\", \"banana\", \"cherry\"]\n",
        "\n",
        "print(fruits[1])\n",
        "\n",
        "fruits[0] = \"kiwi\"\n",
        "\n",
        "fruits.append(\"orange\")\n",
        "\n",
        "fruits.insert(1,\"lemon\")\n",
        "\n",
        "fruits.remove(\"banana\")\n",
        "\n",
        "print(fruits[-1])\n",
        "\n",
        "print(fruits[2:5])\n",
        "\n",
        "print(len(fruits))\n",
        "\n",
        "print(fruits)"
      ],
      "execution_count": null,
      "outputs": [
        {
          "output_type": "stream",
          "text": [
            "banana\n",
            "orange\n",
            "['cherry', 'orange']\n",
            "4\n",
            "['kiwi', 'lemon', 'cherry', 'orange']\n"
          ],
          "name": "stdout"
        }
      ]
    },
    {
      "cell_type": "markdown",
      "metadata": {
        "id": "0IJufolKV2lt"
      },
      "source": [
        "# Tuple Methods"
      ]
    },
    {
      "cell_type": "code",
      "metadata": {
        "colab": {
          "base_uri": "https://localhost:8080/"
        },
        "id": "SZDBu4rGWRcO",
        "outputId": "419bff7c-25bf-4d84-f38f-8c14341f0dc2"
      },
      "source": [
        "fruits = (\"apple\", \"banana\", \"cherry\", \"orange\", \"kiwi\", \"melon\", \"mango\")\n",
        "\n",
        "print(fruits[0])\n",
        "\n",
        "print(len(fruits))\n",
        "\n",
        "print(fruits[-1])\n",
        "\n",
        "print(fruits[2:5])"
      ],
      "execution_count": null,
      "outputs": [
        {
          "output_type": "stream",
          "text": [
            "apple\n",
            "7\n",
            "mango\n",
            "('cherry', 'orange', 'kiwi')\n"
          ],
          "name": "stdout"
        }
      ]
    },
    {
      "cell_type": "markdown",
      "metadata": {
        "id": "SxIIWWRiXOJv"
      },
      "source": [
        "# Sets Methods"
      ]
    },
    {
      "cell_type": "code",
      "metadata": {
        "colab": {
          "base_uri": "https://localhost:8080/"
        },
        "id": "uEOFDuwrXoPD",
        "outputId": "0967e352-408a-42fe-8702-f9a9e87b99f4"
      },
      "source": [
        "fruits = {\"apple\", \"banana\", \"cherry\"}\n",
        "if \"apple\" in fruits:\n",
        "  print(\"Yes, apple is a fruit!\")\n",
        "\n",
        "fruits.add(\"orange\")\n",
        "\n",
        "more_fruits = [\"mango\", \"grapes\"]\n",
        "fruits.update(more_fruits)\n",
        "\n",
        "fruits.remove(\"banana\")\n",
        "\n",
        "fruits.discard(\"mango\")\n",
        "\n",
        "print(fruits)"
      ],
      "execution_count": null,
      "outputs": [
        {
          "output_type": "stream",
          "text": [
            "Yes, apple is a fruit!\n",
            "{'grapes', 'cherry', 'apple', 'orange'}\n"
          ],
          "name": "stdout"
        }
      ]
    },
    {
      "cell_type": "markdown",
      "metadata": {
        "id": "PT-2vlBOZLy-"
      },
      "source": [
        "# Dictionary Methods"
      ]
    },
    {
      "cell_type": "code",
      "metadata": {
        "colab": {
          "base_uri": "https://localhost:8080/"
        },
        "id": "uN8EAJVsZW0j",
        "outputId": "6a9bae05-12c3-4d5e-b657-427b32e0b24b"
      },
      "source": [
        "car =\t{\n",
        "  \"brand\": \"Ford\",\n",
        "  \"model\": \"Mustang\",\n",
        "  \"year\": 1964\n",
        "}\n",
        "\n",
        "print(car.get(\"model\"))\n",
        "\n",
        "\n",
        "car[\"year\"] = 2020\n",
        "\n",
        "car[\"color\"]=\"RED\"\n",
        "\n",
        "car.pop(\"model\")\n",
        "\n",
        "print(car)\n",
        "\n",
        "car.clear()\n",
        "\n",
        "print(car)"
      ],
      "execution_count": null,
      "outputs": [
        {
          "output_type": "stream",
          "text": [
            "Mustang\n",
            "{'brand': 'Ford', 'year': 2020, 'color': 'RED'}\n",
            "{}\n"
          ],
          "name": "stdout"
        }
      ]
    },
    {
      "cell_type": "markdown",
      "metadata": {
        "id": "942rZNcgaQkG"
      },
      "source": [
        "# String Methods"
      ]
    },
    {
      "cell_type": "code",
      "metadata": {
        "colab": {
          "base_uri": "https://localhost:8080/"
        },
        "id": "s9P5VBRTaVlK",
        "outputId": "146ff180-0ecb-449c-c920-ea70b7d75807"
      },
      "source": [
        "x = \"Hello World\"\n",
        "\n",
        "print(len(x))\n",
        "\n",
        "a = x[0]\n",
        "print(a)\n",
        "\n",
        "a = x[2:5]\n",
        "print(a)\n",
        "\n",
        "txt = \" Hello World\"\n",
        "a = txt.strip()\n",
        "print(a)\n",
        "\n",
        "a = x.upper()\n",
        "print(a)\n",
        "\n",
        "a = x.lower()\n",
        "print(a)\n",
        "\n",
        "a = x.replace(\"H\",\"J\")\n",
        "print(a)\n",
        "\n",
        "age = 36\n",
        "txt = \"My name is John, and I am {}\"\n",
        "print(txt.format(age))"
      ],
      "execution_count": null,
      "outputs": [
        {
          "output_type": "stream",
          "text": [
            "11\n",
            "H\n",
            "llo\n",
            "Hello World\n",
            "HELLO WORLD\n",
            "hello world\n",
            "Jello World\n",
            "My name is John, and I am 36\n"
          ],
          "name": "stdout"
        }
      ]
    },
    {
      "cell_type": "markdown",
      "metadata": {
        "id": "thzEg2mMc976"
      },
      "source": [
        "# If condition"
      ]
    },
    {
      "cell_type": "code",
      "metadata": {
        "colab": {
          "base_uri": "https://localhost:8080/"
        },
        "id": "0oeHIM9wdFrA",
        "outputId": "0e50a0f5-1add-4cae-d6a8-75037033c627"
      },
      "source": [
        "a = 50\n",
        "b = 10\n",
        "c = 20\n",
        "d = 20\n",
        "\n",
        "if a >b:\n",
        "  print(\"Hello World\")\n",
        "\n",
        "if a != b:\n",
        "  print(\"Hello World\")\n",
        "\n",
        "if a == b:\n",
        "  print(\"Yes\")\n",
        "else:\n",
        "  print(\"No\")\n",
        "\n",
        "\n",
        "if a == b:\n",
        "  print(\"1\")\n",
        "elif a > b:\n",
        "  print(\"2\")\n",
        "else:\n",
        "  print(\"3\")\n",
        "\n",
        "if a == b and c == d:\n",
        "  print(\"Hello\") \n",
        "\n",
        "if a == b or c == d:\n",
        "  print(\"Hello or\")\n",
        "\n",
        "if 5 > 2:\n",
        "  print(\"Five is greater than two!\")\n",
        "\n",
        "if 5 > 2:\n",
        "  print(\"Five is greater than two!\")\n",
        "\n",
        "if 5 > 7:\n",
        "  print(\"Yes\")\n",
        "else:\n",
        "  print(\"No\")"
      ],
      "execution_count": null,
      "outputs": [
        {
          "output_type": "stream",
          "text": [
            "Hello World\n",
            "Hello World\n",
            "No\n",
            "2\n",
            "Hello or\n",
            "Five is greater than two!\n",
            "Five is greater than two!\n",
            "No\n"
          ],
          "name": "stdout"
        }
      ]
    },
    {
      "cell_type": "markdown",
      "metadata": {
        "id": "95rcFkatomOO"
      },
      "source": [
        "# Loops"
      ]
    },
    {
      "cell_type": "markdown",
      "metadata": {
        "id": "2SlxjQBZopVl"
      },
      "source": [
        "## For Loop"
      ]
    },
    {
      "cell_type": "code",
      "metadata": {
        "colab": {
          "base_uri": "https://localhost:8080/"
        },
        "id": "LV4trm9noxst",
        "outputId": "0ee26c74-3af7-4fe1-f92a-b41043f0abca"
      },
      "source": [
        "fruits = [\"apple\", \"banana\", \"cherry\"]\n",
        "for x in fruits:\n",
        "  print(x)\n",
        "print(\"\\n\\n\")\n",
        "\n",
        "for x in fruits:\n",
        "  if x == \"banana\":\n",
        "    continue\n",
        "  print(x)\n",
        "print(\"\\n\\n\")\n",
        "\n",
        "for x in range(6):\n",
        "  print(x)\n",
        "print(\"\\n\\n\")\n",
        "\n",
        "fruits = [\"apple\", \"banana\", \"cherry\"]\n",
        "for x in fruits:\n",
        "  if x == \"banana\":\n",
        "    break\n",
        "  print(x)"
      ],
      "execution_count": null,
      "outputs": [
        {
          "output_type": "stream",
          "text": [
            "apple\n",
            "banana\n",
            "cherry\n",
            "\n",
            "\n",
            "\n",
            "apple\n",
            "cherry\n",
            "\n",
            "\n",
            "\n",
            "0\n",
            "1\n",
            "2\n",
            "3\n",
            "4\n",
            "5\n",
            "\n",
            "\n",
            "\n",
            "apple\n"
          ],
          "name": "stdout"
        }
      ]
    },
    {
      "cell_type": "markdown",
      "metadata": {
        "id": "9qMgh5jxo2nx"
      },
      "source": [
        "## While Loop"
      ]
    },
    {
      "cell_type": "code",
      "metadata": {
        "colab": {
          "base_uri": "https://localhost:8080/"
        },
        "id": "lYyK0tLuo6e7",
        "outputId": "1dfc4b9d-d219-4e9b-e231-22c15a66920d"
      },
      "source": [
        "i = 1\n",
        "while i < 6:\n",
        "  print(i)\n",
        "  i += 1\n",
        "print(\"\\n\\n\")\n",
        "\n",
        "i=0\n",
        "while i < 6:\n",
        "  if i == 3:\n",
        "    break\n",
        "  print(i)\n",
        "  i += 1\n",
        "print(\"\\n\\n\")\n",
        "\n",
        "i=0\n",
        "while i < 6:\n",
        "  i += 1\n",
        "  if i == 3:\n",
        "    continue\n",
        "  print(i)\n",
        "print(\"\\n\\n\")\n",
        "\n",
        "i=0\n",
        "while i < 6:\n",
        "  print(i)\n",
        "  i += 1\n",
        "else:\n",
        "  print(\"i is no longer less than 6\")\n",
        "\n"
      ],
      "execution_count": null,
      "outputs": [
        {
          "output_type": "stream",
          "text": [
            "1\n",
            "2\n",
            "3\n",
            "4\n",
            "5\n",
            "\n",
            "\n",
            "\n",
            "0\n",
            "1\n",
            "2\n",
            "\n",
            "\n",
            "\n",
            "1\n",
            "2\n",
            "4\n",
            "5\n",
            "6\n",
            "\n",
            "\n",
            "\n",
            "0\n",
            "1\n",
            "2\n",
            "3\n",
            "4\n",
            "5\n",
            "i is no longer less than 6\n"
          ],
          "name": "stdout"
        }
      ]
    },
    {
      "cell_type": "markdown",
      "metadata": {
        "id": "ubbLaVuVpE0J"
      },
      "source": [
        "# Calculator"
      ]
    },
    {
      "cell_type": "code",
      "metadata": {
        "colab": {
          "base_uri": "https://localhost:8080/"
        },
        "id": "hZakNcsdpMrV",
        "outputId": "e3283aff-c7fe-41b5-ffcd-8807d5a6bc20"
      },
      "source": [
        "print(\"Select operation.\\n 1)ADD\\n 2)Subtract\\n 3)Multiply\\n 4)Divide\\n\")\n",
        "choise=int(input(\"Enter your choise =\"))\n",
        "if(choise == 1):\n",
        "  a=float(input(\"Enter first values =\"))\n",
        "  b=float(input(\"Enter first values =\"))\n",
        "  print(\"SUM = \",a+b )\n",
        "elif(choise == 2):\n",
        "  a=float(input(\"Enter first values =\"))\n",
        "  b=float(input(\"Enter first values =\"))\n",
        "  print(\"Differnce = \",a-b)\n",
        "elif(choise == 3):\n",
        "  a=float(input(\"Enter first values =\"))\n",
        "  b=float(input(\"Enter first values =\"))\n",
        "  print(\"Product = \",a*b)\n",
        "elif(choise == 4 ):\n",
        "  a=float(input(\"Enter first values =\"))\n",
        "  b=float(input(\"Enter first values =\"))\n",
        "  print(\"quoficent = \",a/b)\n",
        "else:\n",
        "  print(\"!!  Invaild  !! Please enter corrent option\")\n"
      ],
      "execution_count": 7,
      "outputs": [
        {
          "output_type": "stream",
          "text": [
            "Select operation.\n",
            " 1)ADD\n",
            " 2)Subtract\n",
            " 3)Multiply\n",
            " 4)Divide\n",
            "\n",
            "Enter your choise =3\n",
            "Enter first values =5\n",
            "Enter first values =6\n",
            "Product =  30.0\n"
          ],
          "name": "stdout"
        }
      ]
    }
  ]
}