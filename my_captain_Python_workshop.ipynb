{
  "nbformat": 4,
  "nbformat_minor": 0,
  "metadata": {
    "colab": {
      "name": "my_captain_Python_workshop",
      "provenance": [],
      "toc_visible": true,
      "authorship_tag": "ABX9TyPcRY6XmgQuGHdJJj1Rfdiu",
      "include_colab_link": true
    },
    "kernelspec": {
      "name": "python3",
      "display_name": "Python 3"
    },
    "language_info": {
      "name": "python"
    }
  },
  "cells": [
    {
      "cell_type": "markdown",
      "metadata": {
        "id": "view-in-github",
        "colab_type": "text"
      },
      "source": [
        "<a href=\"https://colab.research.google.com/github/ponnurubadharisai/my_captain_python/blob/main/my_captain_Python_workshop.ipynb\" target=\"_parent\"><img src=\"https://colab.research.google.com/assets/colab-badge.svg\" alt=\"Open In Colab\"/></a>"
      ]
    },
    {
      "cell_type": "markdown",
      "metadata": {
        "id": "kHqkzn0I4gmK"
      },
      "source": [
        "# Let's Code Data Structures\n",
        "\n",
        "\n",
        "#  task Finding the area of the circle with input radius from the user\n",
        "  "
      ]
    },
    {
      "cell_type": "code",
      "metadata": {
        "colab": {
          "base_uri": "https://localhost:8080/"
        },
        "id": "dFOnKwJi4g8f",
        "outputId": "5eba95ee-7f93-40f2-f8fb-9df8295647bb"
      },
      "source": [
        "import math\n",
        "radius=float(input(\"Enter the raidus value = \"))\n",
        "area=float(math.pi*radius*radius)\n",
        "print(\"The area of the circle with radius\",radius,\"is:\",area)"
      ],
      "execution_count": null,
      "outputs": [
        {
          "output_type": "stream",
          "text": [
            "Enter the raidus value = 1.1\n",
            "The area of the circle with radius 1.1 is: 3.8013271108436504\n"
          ],
          "name": "stdout"
        }
      ]
    },
    {
      "cell_type": "markdown",
      "metadata": {
        "id": "1_CabZfd1aJA"
      },
      "source": [
        "# Let's Code Loops \n",
        " \n",
        "#  task 1) Fibonacci numbers\n"
      ]
    },
    {
      "cell_type": "code",
      "metadata": {
        "colab": {
          "base_uri": "https://localhost:8080/"
        },
        "id": "a6O6N5PH0sbI",
        "outputId": "b20e79e4-f1cf-44e7-85fc-d799dc4655f7"
      },
      "source": [
        "n= int(input(\"Number of terms = \"))\n",
        "n1, n2 = 0, 1\n",
        "count = 0\n",
        "if n <= 0:\n",
        "   print(\"Please enter a positive integer\")\n",
        "elif n == 1:\n",
        "   print(\"Fibonacci sequence upto\",n,\":\")\n",
        "   print(n1)\n",
        "else:\n",
        "   print(\"Fibonacci sequence:\")\n",
        "   while count < n:\n",
        "       print(n1)\n",
        "       nth = n1 + n2\n",
        "       n1 = n2\n",
        "       n2 = nth\n",
        "       count += 1\n"
      ],
      "execution_count": null,
      "outputs": [
        {
          "output_type": "stream",
          "text": [
            "Number of terms = 5\n",
            "Fibonacci sequence:\n",
            "0\n",
            "1\n",
            "1\n",
            "2\n",
            "3\n"
          ],
          "name": "stdout"
        }
      ]
    },
    {
      "cell_type": "markdown",
      "metadata": {
        "id": "ynSpFaj92W93"
      },
      "source": [
        "# Let's Code Loops \n",
        " \n",
        "#  task 2) Positive Numbers in a List "
      ]
    },
    {
      "cell_type": "code",
      "metadata": {
        "colab": {
          "base_uri": "https://localhost:8080/"
        },
        "id": "cpxgsqTa17Dl",
        "outputId": "1e76efcb-4558-4ae3-ddf4-8d128cba8d2c"
      },
      "source": [
        "list1 = []\n",
        "n = int(input(\"Enter number of elements : \"))\n",
        "for i in range(0, n):\n",
        "\telement = int(input())\n",
        "\tlist1.append(element) \n",
        "\t\n",
        "\n",
        "num = 0\n",
        "print(\"Positve Numbers =\")\n",
        "while(num < n):\n",
        "\t\n",
        "\tif list1[num] >= 0:\n",
        "\t\tprint(list1[num], end = \" \")\n",
        "\t\t\n",
        "\tnum += 1\n",
        "\t"
      ],
      "execution_count": null,
      "outputs": [
        {
          "output_type": "stream",
          "text": [
            "Enter number of elements : 5\n",
            "1\n",
            "-5\n",
            "-6\n",
            "-8\n",
            "9\n",
            "Positve Numbers =\n",
            "1 9 "
          ],
          "name": "stdout"
        }
      ]
    },
    {
      "cell_type": "markdown",
      "metadata": {
        "id": "K89E4Sbp24s2"
      },
      "source": [
        "# Let's Code Functions\n",
        "\n",
        "#  task numbers of repetition of alphabets in a string in Decreasing order"
      ]
    },
    {
      "cell_type": "code",
      "metadata": {
        "id": "VxWVw_n1psJJ",
        "colab": {
          "base_uri": "https://localhost:8080/"
        },
        "outputId": "c6df074f-9e21-4d7f-f106-8157df5dc96f"
      },
      "source": [
        "def most_frequent(sentence):\n",
        "    d = {}\n",
        "    for ch in sentence:\n",
        "        if ch not in d:\n",
        "            d[ch] = 0\n",
        "        d[ch] += 1\n",
        "    items = sorted(d.items(), key=lambda kv: kv[0], reverse=False)\n",
        "    items = sorted(items, key=lambda kv: kv[1], reverse=True)\n",
        "    for k, v in items:\n",
        "        print(k, v)\n",
        "\n",
        "print(\"Enter the string\")\n",
        "a = input()\n",
        "most_frequent(a)"
      ],
      "execution_count": null,
      "outputs": [
        {
          "output_type": "stream",
          "text": [
            "Enter the string\n",
            "misiippiss\n",
            "i 4\n",
            "s 3\n",
            "p 2\n",
            "m 1\n"
          ],
          "name": "stdout"
        }
      ]
    }
  ]
}